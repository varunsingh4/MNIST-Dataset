{
  "nbformat": 4,
  "nbformat_minor": 0,
  "metadata": {
    "accelerator": "GPU",
    "colab": {
      "name": "mnist_mln_network.ipynb",
      "provenance": [],
      "collapsed_sections": []
    },
    "kernelspec": {
      "display_name": "Python 3",
      "language": "python",
      "name": "python3"
    },
    "language_info": {
      "codemirror_mode": {
        "name": "ipython",
        "version": 3
      },
      "file_extension": ".py",
      "mimetype": "text/x-python",
      "name": "python",
      "nbconvert_exporter": "python",
      "pygments_lexer": "ipython3",
      "version": "3.7.4"
    }
  },
  "cells": [
    {
      "cell_type": "markdown",
      "metadata": {
        "id": "MvErumT0n0_-"
      },
      "source": [
        "# Classification of handwritten digits using MLN\n"
      ]
    },
    {
      "cell_type": "markdown",
      "metadata": {
        "id": "zh0uH8bDn1AE"
      },
      "source": [
        "# MNIST Dataset\n",
        "\n",
        "<img src=\"https://upload.wikimedia.org/wikipedia/commons/2/27/MnistExamples.png\" title=\"MNIST dataset\" align=\"center\"/>\n",
        "\n"
      ]
    },
    {
      "cell_type": "markdown",
      "metadata": {
        "id": "1K6Im4RYn1AK"
      },
      "source": [
        "# Problem\n",
        "Classify handwritten digits from 0 - 9. <br>\n",
        "Each image is 28x28 pixels\n",
        "\n",
        "<img src=\"https://corochann.com/wp-content/uploads/2017/02/mnist_plot.png\" title=\"\" align=\"center\"/>\n"
      ]
    },
    {
      "cell_type": "markdown",
      "metadata": {
        "id": "EVex4puqn1AO"
      },
      "source": [
        "# Understanding the data"
      ]
    },
    {
      "cell_type": "code",
      "metadata": {
        "id": "alqmfbOIn1AR"
      },
      "source": [
        "# MNIST data is present in the keras library. You may load it from there\n",
        "import tensorflow as tf\n",
        "from tensorflow.keras.datasets import mnist\n",
        "(train_samples, train_labels), (test_samples, test_labels) = mnist.load_data()\n",
        "# Training samples "
      ],
      "execution_count": 28,
      "outputs": []
    },
    {
      "cell_type": "markdown",
      "metadata": {
        "id": "3CNRCPbrn1Ae"
      },
      "source": [
        "### Shape of Data"
      ]
    },
    {
      "cell_type": "code",
      "metadata": {
        "colab": {
          "base_uri": "https://localhost:8080/"
        },
        "id": "_pAn6o3Vn1Ag",
        "outputId": "a1726a1d-b2e8-4a76-ad9f-56787fa70c94"
      },
      "source": [
        "print(train_samples.shape)\n",
        "print(train_labels.shape)\n",
        "print(test_samples.shape)\n",
        "print(test_labels.shape)"
      ],
      "execution_count": 29,
      "outputs": [
        {
          "output_type": "stream",
          "text": [
            "(60000, 28, 28)\n",
            "(60000,)\n",
            "(10000, 28, 28)\n",
            "(10000,)\n"
          ],
          "name": "stdout"
        }
      ]
    },
    {
      "cell_type": "markdown",
      "metadata": {
        "id": "ubf7aJPIn1Ax"
      },
      "source": [
        "### Range of Values"
      ]
    },
    {
      "cell_type": "code",
      "metadata": {
        "colab": {
          "base_uri": "https://localhost:8080/"
        },
        "id": "-jiF1J8Jn1A0",
        "outputId": "3b2a7f5c-0406-44e2-a3ae-fa74af1d0f30"
      },
      "source": [
        "import numpy as np\n",
        "np.amax(train_samples) # Max value"
      ],
      "execution_count": 30,
      "outputs": [
        {
          "output_type": "execute_result",
          "data": {
            "text/plain": [
              "255"
            ]
          },
          "metadata": {
            "tags": []
          },
          "execution_count": 30
        }
      ]
    },
    {
      "cell_type": "code",
      "metadata": {
        "colab": {
          "base_uri": "https://localhost:8080/"
        },
        "id": "Mu18byDmn1A-",
        "outputId": "1d19a76e-4708-4eff-a68c-c9eacbd98eb2"
      },
      "source": [
        "np.amin(train_samples) # Min Value"
      ],
      "execution_count": 31,
      "outputs": [
        {
          "output_type": "execute_result",
          "data": {
            "text/plain": [
              "0"
            ]
          },
          "metadata": {
            "tags": []
          },
          "execution_count": 31
        }
      ]
    },
    {
      "cell_type": "code",
      "metadata": {
        "colab": {
          "base_uri": "https://localhost:8080/",
          "height": 283
        },
        "id": "_OkrzUFQn1BI",
        "outputId": "6a53521d-d502-48f2-f20c-90e6a78ac529"
      },
      "source": [
        "%matplotlib inline\n",
        "import matplotlib.pyplot as plt\n",
        "\n",
        "pixels = train_samples[0] # Shape (28, 28)\n",
        "plt.imshow(pixels, cmap='gray')\n",
        "plt.show()\n",
        "print('Label of image is', train_labels[0])"
      ],
      "execution_count": 32,
      "outputs": [
        {
          "output_type": "display_data",
          "data": {
            "image/png": "[encoded data removed]",
            "text/plain": [
              "<Figure size 432x288 with 1 Axes>"
            ]
          },
          "metadata": {
            "tags": [],
            "needs_background": "light"
          }
        },
        {
          "output_type": "stream",
          "text": [
            "Label of image is 5\n"
          ],
          "name": "stdout"
        }
      ]
    },
    {
      "cell_type": "markdown",
      "metadata": {
        "id": "N6JiZgztn1BP"
      },
      "source": [
        "# Data Preparation"
      ]
    },
    {
      "cell_type": "markdown",
      "metadata": {
        "id": "7hUHie4_n1BQ"
      },
      "source": [
        "### Normalize inputs to (0, 1)"
      ]
    },
    {
      "cell_type": "code",
      "metadata": {
        "id": "iGKZASBBn1BS"
      },
      "source": [
        "# Convert data type from uint8 to float32\n",
        "train_samples = train_samples.astype('float32')\n",
        "test_samples = test_samples.astype('float32')"
      ],
      "execution_count": 33,
      "outputs": []
    },
    {
      "cell_type": "code",
      "metadata": {
        "colab": {
          "base_uri": "https://localhost:8080/"
        },
        "id": "gbaIejYPn1BX",
        "outputId": "ad8c8520-0748-40b2-f095-2e08aff54bf6"
      },
      "source": [
        "# Normalize inputs to (0,1)\n",
        "train_samples = train_samples/255.\n",
        "test_samples = test_samples/255.\n",
        "np.amax(train_samples) # max value has become 1.0\n",
        "print(train_samples.shape)"
      ],
      "execution_count": 34,
      "outputs": [
        {
          "output_type": "stream",
          "text": [
            "(60000, 28, 28)\n"
          ],
          "name": "stdout"
        }
      ]
    },
    {
      "cell_type": "code",
      "metadata": {
        "colab": {
          "base_uri": "https://localhost:8080/"
        },
        "id": "0klvh6HMn1Be",
        "outputId": "2b3c9134-cb27-49c2-8faa-ff8a8116ced0"
      },
      "source": [
        "## Reshape input to be a column vector\n",
        "train_samples = train_samples.reshape(train_samples.shape[0], 28*28)\n",
        "print(train_samples.shape)\n",
        "test_samples = test_samples.reshape(test_samples.shape[0], 28*28)"
      ],
      "execution_count": 35,
      "outputs": [
        {
          "output_type": "stream",
          "text": [
            "(60000, 784)\n"
          ],
          "name": "stdout"
        }
      ]
    },
    {
      "cell_type": "markdown",
      "metadata": {
        "id": "jzvfaeh9n1Bj"
      },
      "source": [
        "### Convert outputs to 1-hot vectors\n",
        "\\begin{equation*}\n",
        "Eg: 5 \\rightarrow [0, 0, 0, 0, 0, 1, 0, 0, 0, 0]\n",
        "\\end{equation*}"
      ]
    },
    {
      "cell_type": "code",
      "metadata": {
        "colab": {
          "base_uri": "https://localhost:8080/"
        },
        "id": "kCxrh0-nn1Bl",
        "outputId": "aae4bd17-1211-4684-9432-b7b79801b248"
      },
      "source": [
        "# keras has a utility function for this\n",
        "from tensorflow.keras.utils import to_categorical\n",
        "train_labels = to_categorical(train_labels)\n",
        "test_labels = to_categorical(test_labels)\n",
        "# example\n",
        "train_labels[0] # label = 5"
      ],
      "execution_count": 36,
      "outputs": [
        {
          "output_type": "execute_result",
          "data": {
            "text/plain": [
              "array([0., 0., 0., 0., 0., 1., 0., 0., 0., 0.], dtype=float32)"
            ]
          },
          "metadata": {
            "tags": []
          },
          "execution_count": 36
        }
      ]
    },
    {
      "cell_type": "markdown",
      "metadata": {
        "id": "2_Pt8JB8n1Bq"
      },
      "source": [
        "# Network Architecture\n",
        "\n",
        "<img src=\"https://drive.google.com/uc?id=1m2jgscTgKlvtzj757I9YMJE2sqNXmMMy\" title=\"\" align=\"center\" width=\"50%\" height=\"50%\"/>"
      ]
    },
    {
      "cell_type": "markdown",
      "metadata": {
        "id": "aceZEJRzn1Bs"
      },
      "source": [
        "### Softmax Activation Function\n",
        "In the Dense (Fully Connected) layer, we use a softmax activation function\n",
        "\\begin{align}\n",
        "\\sigma(x_j) = \\frac{e^{x_j}}{\\sum_{i}e^{x_i}}\n",
        "\\end{align}\n",
        "\n",
        " The softmax function is a function that takes as input a vector of K real numbers, and normalizes it into a probability distribution consisting of K probabilities"
      ]
    },
    {
      "cell_type": "code",
      "metadata": {
        "id": "amqRJpZun1Bt"
      },
      "source": [
        "# Layer definitions\n",
        "from tensorflow.keras.layers import Input, Dense\n",
        "\n",
        "input_layer = Input(shape = train_samples.shape[1:])\n",
        "hidden_layer = Dense(512, activation = 'sigmoid',)(input_layer)\n",
        "output_layer = Dense(10, activation = 'softmax')(hidden_layer)\n",
        "\n"
      ],
      "execution_count": 37,
      "outputs": []
    },
    {
      "cell_type": "markdown",
      "metadata": {
        "id": "VBVFR5ran1By"
      },
      "source": [
        "Loss is Categorical Crossentropy\n",
        "\n",
        "\\begin{align}\n",
        "L(t,p) = -\\sum_{x}t(x)log(p(x))\n",
        "\\end{align}\n",
        "\n",
        "where  𝑥  ranges over the elements of the output vector\n",
        "\n",
        "\\begin{align}\n",
        "t \\rightarrow \\text{true probability distribution} \\\\\n",
        "p \\rightarrow \\text{predicted probability distribution}\n",
        "\\end{align}\n",
        "In our case, $t$ is always a delta function. \n",
        "For eg., for label = 5,<br>\n",
        "$t(x) = 1$ if $x = 5$ and 0 otherwise"
      ]
    },
    {
      "cell_type": "markdown",
      "metadata": {
        "id": "PiZKWdx5n1B0"
      },
      "source": [
        "Weight update Rule\n",
        "\n",
        "\\begin{align}\n",
        "W' \\leftarrow W - \\eta\\frac{\\partial L}{\\partial W}\n",
        "\\end{align}"
      ]
    },
    {
      "cell_type": "code",
      "metadata": {
        "colab": {
          "base_uri": "https://localhost:8080/"
        },
        "id": "iN6BITwtn1B1",
        "scrolled": true,
        "outputId": "bad949b7-f564-4160-96e8-c2c689af3281"
      },
      "source": [
        "# Model definition\n",
        "from tensorflow.keras.models import Model\n",
        "from tensorflow.keras import optimizers\n",
        "model = Model(inputs=[input_layer], outputs=[output_layer])\n",
        "model.compile(optimizer=optimizers.Adam(lr=0.001), loss='categorical_crossentropy', metrics=['accuracy'])\n",
        "model.summary()"
      ],
      "execution_count": 38,
      "outputs": [
        {
          "output_type": "stream",
          "text": [
            "Model: \"model_2\"\n",
            "_________________________________________________________________\n",
            "Layer (type)                 Output Shape              Param #   \n",
            "=================================================================\n",
            "input_2 (InputLayer)         [(None, 784)]             0         \n",
            "_________________________________________________________________\n",
            "dense_2 (Dense)              (None, 512)               401920    \n",
            "_________________________________________________________________\n",
            "dense_3 (Dense)              (None, 10)                5130      \n",
            "=================================================================\n",
            "Total params: 407,050\n",
            "Trainable params: 407,050\n",
            "Non-trainable params: 0\n",
            "_________________________________________________________________\n"
          ],
          "name": "stdout"
        }
      ]
    },
    {
      "cell_type": "code",
      "metadata": {
        "colab": {
          "base_uri": "https://localhost:8080/"
        },
        "id": "u-2Sfsxtn1B7",
        "scrolled": true,
        "outputId": "bfc2c569-152f-4b88-d374-c46adc64ee5e"
      },
      "source": [
        "history = model.fit(train_samples, train_labels, validation_split = 0.1, epochs=100, batch_size=200)\n",
        "# Use 10% of samples for validation, validation_split is the relevant parameter"
      ],
      "execution_count": 39,
      "outputs": [
        {
          "output_type": "stream",
          "text": [
            "Epoch 1/100\n",
            "270/270 [==============================] - 1s 3ms/step - loss: 0.8944 - accuracy: 0.7701 - val_loss: 0.2600 - val_accuracy: 0.9273\n",
            "Epoch 2/100\n",
            "270/270 [==============================] - 1s 3ms/step - loss: 0.2936 - accuracy: 0.9168 - val_loss: 0.2086 - val_accuracy: 0.9415\n",
            "Epoch 3/100\n",
            "270/270 [==============================] - 1s 3ms/step - loss: 0.2440 - accuracy: 0.9296 - val_loss: 0.1796 - val_accuracy: 0.9522\n",
            "Epoch 4/100\n",
            "270/270 [==============================] - 1s 3ms/step - loss: 0.2106 - accuracy: 0.9378 - val_loss: 0.1537 - val_accuracy: 0.9582\n",
            "Epoch 5/100\n",
            "270/270 [==============================] - 1s 3ms/step - loss: 0.1759 - accuracy: 0.9489 - val_loss: 0.1347 - val_accuracy: 0.9645\n",
            "Epoch 6/100\n",
            "270/270 [==============================] - 1s 3ms/step - loss: 0.1445 - accuracy: 0.9574 - val_loss: 0.1228 - val_accuracy: 0.9657\n",
            "Epoch 7/100\n",
            "270/270 [==============================] - 1s 3ms/step - loss: 0.1260 - accuracy: 0.9633 - val_loss: 0.1139 - val_accuracy: 0.9688\n",
            "Epoch 8/100\n",
            "270/270 [==============================] - 1s 3ms/step - loss: 0.1100 - accuracy: 0.9688 - val_loss: 0.1064 - val_accuracy: 0.9700\n",
            "Epoch 9/100\n",
            "270/270 [==============================] - 1s 3ms/step - loss: 0.0967 - accuracy: 0.9726 - val_loss: 0.0979 - val_accuracy: 0.9733\n",
            "Epoch 10/100\n",
            "270/270 [==============================] - 1s 3ms/step - loss: 0.0861 - accuracy: 0.9758 - val_loss: 0.0901 - val_accuracy: 0.9745\n",
            "Epoch 11/100\n",
            "270/270 [==============================] - 1s 3ms/step - loss: 0.0741 - accuracy: 0.9798 - val_loss: 0.0871 - val_accuracy: 0.9748\n",
            "Epoch 12/100\n",
            "270/270 [==============================] - 1s 3ms/step - loss: 0.0653 - accuracy: 0.9825 - val_loss: 0.0810 - val_accuracy: 0.9777\n",
            "Epoch 13/100\n",
            "270/270 [==============================] - 1s 3ms/step - loss: 0.0607 - accuracy: 0.9827 - val_loss: 0.0769 - val_accuracy: 0.9763\n",
            "Epoch 14/100\n",
            "270/270 [==============================] - 1s 3ms/step - loss: 0.0523 - accuracy: 0.9861 - val_loss: 0.0741 - val_accuracy: 0.9793\n",
            "Epoch 15/100\n",
            "270/270 [==============================] - 1s 3ms/step - loss: 0.0452 - accuracy: 0.9889 - val_loss: 0.0740 - val_accuracy: 0.9783\n",
            "Epoch 16/100\n",
            "270/270 [==============================] - 1s 3ms/step - loss: 0.0384 - accuracy: 0.9898 - val_loss: 0.0738 - val_accuracy: 0.9778\n",
            "Epoch 17/100\n",
            "270/270 [==============================] - 1s 3ms/step - loss: 0.0374 - accuracy: 0.9909 - val_loss: 0.0688 - val_accuracy: 0.9800\n",
            "Epoch 18/100\n",
            "270/270 [==============================] - 1s 3ms/step - loss: 0.0311 - accuracy: 0.9929 - val_loss: 0.0697 - val_accuracy: 0.9790\n",
            "Epoch 19/100\n",
            "270/270 [==============================] - 1s 3ms/step - loss: 0.0266 - accuracy: 0.9941 - val_loss: 0.0656 - val_accuracy: 0.9802\n",
            "Epoch 20/100\n",
            "270/270 [==============================] - 1s 3ms/step - loss: 0.0238 - accuracy: 0.9951 - val_loss: 0.0672 - val_accuracy: 0.9800\n",
            "Epoch 21/100\n",
            "270/270 [==============================] - 1s 3ms/step - loss: 0.0205 - accuracy: 0.9961 - val_loss: 0.0676 - val_accuracy: 0.9797\n",
            "Epoch 22/100\n",
            "270/270 [==============================] - 1s 3ms/step - loss: 0.0193 - accuracy: 0.9967 - val_loss: 0.0660 - val_accuracy: 0.9795\n",
            "Epoch 23/100\n",
            "270/270 [==============================] - 1s 3ms/step - loss: 0.0168 - accuracy: 0.9974 - val_loss: 0.0657 - val_accuracy: 0.9807\n",
            "Epoch 24/100\n",
            "270/270 [==============================] - 1s 3ms/step - loss: 0.0148 - accuracy: 0.9979 - val_loss: 0.0654 - val_accuracy: 0.9803\n",
            "Epoch 25/100\n",
            "270/270 [==============================] - 1s 3ms/step - loss: 0.0121 - accuracy: 0.9985 - val_loss: 0.0654 - val_accuracy: 0.9810\n",
            "Epoch 26/100\n",
            "270/270 [==============================] - 1s 3ms/step - loss: 0.0107 - accuracy: 0.9990 - val_loss: 0.0631 - val_accuracy: 0.9815\n",
            "Epoch 27/100\n",
            "270/270 [==============================] - 1s 3ms/step - loss: 0.0091 - accuracy: 0.9993 - val_loss: 0.0668 - val_accuracy: 0.9808\n",
            "Epoch 28/100\n",
            "270/270 [==============================] - 1s 3ms/step - loss: 0.0083 - accuracy: 0.9992 - val_loss: 0.0641 - val_accuracy: 0.9830\n",
            "Epoch 29/100\n",
            "270/270 [==============================] - 1s 3ms/step - loss: 0.0070 - accuracy: 0.9996 - val_loss: 0.0654 - val_accuracy: 0.9820\n",
            "Epoch 30/100\n",
            "270/270 [==============================] - 1s 3ms/step - loss: 0.0059 - accuracy: 0.9996 - val_loss: 0.0664 - val_accuracy: 0.9812\n",
            "Epoch 31/100\n",
            "270/270 [==============================] - 1s 3ms/step - loss: 0.0052 - accuracy: 0.9998 - val_loss: 0.0663 - val_accuracy: 0.9818\n",
            "Epoch 32/100\n",
            "270/270 [==============================] - 1s 3ms/step - loss: 0.0049 - accuracy: 0.9997 - val_loss: 0.0627 - val_accuracy: 0.9822\n",
            "Epoch 33/100\n",
            "270/270 [==============================] - 1s 3ms/step - loss: 0.0038 - accuracy: 1.0000 - val_loss: 0.0660 - val_accuracy: 0.9827\n",
            "Epoch 34/100\n",
            "270/270 [==============================] - 1s 3ms/step - loss: 0.0034 - accuracy: 0.9999 - val_loss: 0.0655 - val_accuracy: 0.9828\n",
            "Epoch 35/100\n",
            "270/270 [==============================] - 1s 3ms/step - loss: 0.0030 - accuracy: 0.9999 - val_loss: 0.0680 - val_accuracy: 0.9822\n",
            "Epoch 36/100\n",
            "270/270 [==============================] - 1s 3ms/step - loss: 0.0025 - accuracy: 1.0000 - val_loss: 0.0670 - val_accuracy: 0.9830\n",
            "Epoch 37/100\n",
            "270/270 [==============================] - 1s 3ms/step - loss: 0.0022 - accuracy: 1.0000 - val_loss: 0.0677 - val_accuracy: 0.9822\n",
            "Epoch 38/100\n",
            "270/270 [==============================] - 1s 3ms/step - loss: 0.0019 - accuracy: 1.0000 - val_loss: 0.0683 - val_accuracy: 0.9830\n",
            "Epoch 39/100\n",
            "270/270 [==============================] - 1s 3ms/step - loss: 0.0018 - accuracy: 1.0000 - val_loss: 0.0684 - val_accuracy: 0.9837\n",
            "Epoch 40/100\n",
            "270/270 [==============================] - 1s 3ms/step - loss: 0.0016 - accuracy: 1.0000 - val_loss: 0.0673 - val_accuracy: 0.9837\n",
            "Epoch 41/100\n",
            "270/270 [==============================] - 1s 3ms/step - loss: 0.0014 - accuracy: 1.0000 - val_loss: 0.0705 - val_accuracy: 0.9830\n",
            "Epoch 42/100\n",
            "270/270 [==============================] - 1s 3ms/step - loss: 0.0011 - accuracy: 1.0000 - val_loss: 0.0712 - val_accuracy: 0.9827\n",
            "Epoch 43/100\n",
            "270/270 [==============================] - 1s 3ms/step - loss: 0.0011 - accuracy: 1.0000 - val_loss: 0.0703 - val_accuracy: 0.9828\n",
            "Epoch 44/100\n",
            "270/270 [==============================] - 1s 3ms/step - loss: 9.3653e-04 - accuracy: 1.0000 - val_loss: 0.0695 - val_accuracy: 0.9835\n",
            "Epoch 45/100\n",
            "270/270 [==============================] - 1s 3ms/step - loss: 7.4073e-04 - accuracy: 1.0000 - val_loss: 0.0707 - val_accuracy: 0.9835\n",
            "Epoch 46/100\n",
            "270/270 [==============================] - 1s 3ms/step - loss: 6.8644e-04 - accuracy: 1.0000 - val_loss: 0.0740 - val_accuracy: 0.9832\n",
            "Epoch 47/100\n",
            "270/270 [==============================] - 1s 3ms/step - loss: 6.0919e-04 - accuracy: 1.0000 - val_loss: 0.0731 - val_accuracy: 0.9835\n",
            "Epoch 48/100\n",
            "270/270 [==============================] - 1s 3ms/step - loss: 5.1823e-04 - accuracy: 1.0000 - val_loss: 0.0725 - val_accuracy: 0.9838\n",
            "Epoch 49/100\n",
            "270/270 [==============================] - 1s 3ms/step - loss: 4.4896e-04 - accuracy: 1.0000 - val_loss: 0.0735 - val_accuracy: 0.9837\n",
            "Epoch 50/100\n",
            "270/270 [==============================] - 1s 3ms/step - loss: 3.9482e-04 - accuracy: 1.0000 - val_loss: 0.0754 - val_accuracy: 0.9828\n",
            "Epoch 51/100\n",
            "270/270 [==============================] - 1s 3ms/step - loss: 3.7841e-04 - accuracy: 1.0000 - val_loss: 0.0740 - val_accuracy: 0.9838\n",
            "Epoch 52/100\n",
            "270/270 [==============================] - 1s 3ms/step - loss: 3.1149e-04 - accuracy: 1.0000 - val_loss: 0.0753 - val_accuracy: 0.9837\n",
            "Epoch 53/100\n",
            "270/270 [==============================] - 1s 3ms/step - loss: 2.8463e-04 - accuracy: 1.0000 - val_loss: 0.0763 - val_accuracy: 0.9840\n",
            "Epoch 54/100\n",
            "270/270 [==============================] - 1s 3ms/step - loss: 2.4182e-04 - accuracy: 1.0000 - val_loss: 0.0764 - val_accuracy: 0.9833\n",
            "Epoch 55/100\n",
            "270/270 [==============================] - 1s 3ms/step - loss: 2.3798e-04 - accuracy: 1.0000 - val_loss: 0.0774 - val_accuracy: 0.9837\n",
            "Epoch 56/100\n",
            "270/270 [==============================] - 1s 3ms/step - loss: 2.0902e-04 - accuracy: 1.0000 - val_loss: 0.0781 - val_accuracy: 0.9840\n",
            "Epoch 57/100\n",
            "270/270 [==============================] - 1s 3ms/step - loss: 1.7950e-04 - accuracy: 1.0000 - val_loss: 0.0775 - val_accuracy: 0.9835\n",
            "Epoch 58/100\n",
            "270/270 [==============================] - 1s 3ms/step - loss: 1.5500e-04 - accuracy: 1.0000 - val_loss: 0.0777 - val_accuracy: 0.9837\n",
            "Epoch 59/100\n",
            "270/270 [==============================] - 1s 3ms/step - loss: 1.2395e-04 - accuracy: 1.0000 - val_loss: 0.0782 - val_accuracy: 0.9847\n",
            "Epoch 60/100\n",
            "270/270 [==============================] - 1s 3ms/step - loss: 1.1056e-04 - accuracy: 1.0000 - val_loss: 0.0809 - val_accuracy: 0.9835\n",
            "Epoch 61/100\n",
            "270/270 [==============================] - 1s 3ms/step - loss: 0.0012 - accuracy: 0.9996 - val_loss: 0.0985 - val_accuracy: 0.9803\n",
            "Epoch 62/100\n",
            "270/270 [==============================] - 1s 3ms/step - loss: 8.7461e-04 - accuracy: 0.9999 - val_loss: 0.0844 - val_accuracy: 0.9827\n",
            "Epoch 63/100\n",
            "270/270 [==============================] - 1s 3ms/step - loss: 2.2786e-04 - accuracy: 1.0000 - val_loss: 0.0836 - val_accuracy: 0.9830\n",
            "Epoch 64/100\n",
            "270/270 [==============================] - 1s 3ms/step - loss: 1.4249e-04 - accuracy: 1.0000 - val_loss: 0.0833 - val_accuracy: 0.9830\n",
            "Epoch 65/100\n",
            "270/270 [==============================] - 1s 3ms/step - loss: 1.1866e-04 - accuracy: 1.0000 - val_loss: 0.0834 - val_accuracy: 0.9835\n",
            "Epoch 66/100\n",
            "270/270 [==============================] - 1s 3ms/step - loss: 1.0169e-04 - accuracy: 1.0000 - val_loss: 0.0829 - val_accuracy: 0.9842\n",
            "Epoch 67/100\n",
            "270/270 [==============================] - 1s 3ms/step - loss: 9.6948e-05 - accuracy: 1.0000 - val_loss: 0.0832 - val_accuracy: 0.9838\n",
            "Epoch 68/100\n",
            "270/270 [==============================] - 1s 3ms/step - loss: 8.7053e-05 - accuracy: 1.0000 - val_loss: 0.0837 - val_accuracy: 0.9835\n",
            "Epoch 69/100\n",
            "270/270 [==============================] - 1s 3ms/step - loss: 8.0380e-05 - accuracy: 1.0000 - val_loss: 0.0832 - val_accuracy: 0.9837\n",
            "Epoch 70/100\n",
            "270/270 [==============================] - 1s 3ms/step - loss: 7.4809e-05 - accuracy: 1.0000 - val_loss: 0.0837 - val_accuracy: 0.9840\n",
            "Epoch 71/100\n",
            "270/270 [==============================] - 1s 3ms/step - loss: 6.9726e-05 - accuracy: 1.0000 - val_loss: 0.0834 - val_accuracy: 0.9842\n",
            "Epoch 72/100\n",
            "270/270 [==============================] - 1s 3ms/step - loss: 6.7363e-05 - accuracy: 1.0000 - val_loss: 0.0838 - val_accuracy: 0.9843\n",
            "Epoch 73/100\n",
            "270/270 [==============================] - 1s 3ms/step - loss: 6.2455e-05 - accuracy: 1.0000 - val_loss: 0.0839 - val_accuracy: 0.9845\n",
            "Epoch 74/100\n",
            "270/270 [==============================] - 1s 3ms/step - loss: 5.7376e-05 - accuracy: 1.0000 - val_loss: 0.0840 - val_accuracy: 0.9845\n",
            "Epoch 75/100\n",
            "270/270 [==============================] - 1s 3ms/step - loss: 5.6088e-05 - accuracy: 1.0000 - val_loss: 0.0846 - val_accuracy: 0.9837\n",
            "Epoch 76/100\n",
            "270/270 [==============================] - 1s 3ms/step - loss: 5.1523e-05 - accuracy: 1.0000 - val_loss: 0.0848 - val_accuracy: 0.9838\n",
            "Epoch 77/100\n",
            "270/270 [==============================] - 1s 3ms/step - loss: 4.8244e-05 - accuracy: 1.0000 - val_loss: 0.0853 - val_accuracy: 0.9838\n",
            "Epoch 78/100\n",
            "270/270 [==============================] - 1s 3ms/step - loss: 4.4401e-05 - accuracy: 1.0000 - val_loss: 0.0851 - val_accuracy: 0.9838\n",
            "Epoch 79/100\n",
            "270/270 [==============================] - 1s 3ms/step - loss: 4.1861e-05 - accuracy: 1.0000 - val_loss: 0.0850 - val_accuracy: 0.9848\n",
            "Epoch 80/100\n",
            "270/270 [==============================] - 1s 3ms/step - loss: 3.7948e-05 - accuracy: 1.0000 - val_loss: 0.0860 - val_accuracy: 0.9845\n",
            "Epoch 81/100\n",
            "270/270 [==============================] - 1s 3ms/step - loss: 3.7078e-05 - accuracy: 1.0000 - val_loss: 0.0854 - val_accuracy: 0.9843\n",
            "Epoch 82/100\n",
            "270/270 [==============================] - 1s 3ms/step - loss: 3.4581e-05 - accuracy: 1.0000 - val_loss: 0.0861 - val_accuracy: 0.9842\n",
            "Epoch 83/100\n",
            "270/270 [==============================] - 1s 3ms/step - loss: 3.0016e-05 - accuracy: 1.0000 - val_loss: 0.0865 - val_accuracy: 0.9847\n",
            "Epoch 84/100\n",
            "270/270 [==============================] - 1s 3ms/step - loss: 2.8580e-05 - accuracy: 1.0000 - val_loss: 0.0867 - val_accuracy: 0.9852\n",
            "Epoch 85/100\n",
            "270/270 [==============================] - 1s 3ms/step - loss: 2.6566e-05 - accuracy: 1.0000 - val_loss: 0.0864 - val_accuracy: 0.9853\n",
            "Epoch 86/100\n",
            "270/270 [==============================] - 1s 3ms/step - loss: 2.5008e-05 - accuracy: 1.0000 - val_loss: 0.0873 - val_accuracy: 0.9850\n",
            "Epoch 87/100\n",
            "270/270 [==============================] - 1s 3ms/step - loss: 2.1994e-05 - accuracy: 1.0000 - val_loss: 0.0873 - val_accuracy: 0.9855\n",
            "Epoch 88/100\n",
            "270/270 [==============================] - 1s 3ms/step - loss: 2.0060e-05 - accuracy: 1.0000 - val_loss: 0.0893 - val_accuracy: 0.9847\n",
            "Epoch 89/100\n",
            "270/270 [==============================] - 1s 3ms/step - loss: 1.8007e-05 - accuracy: 1.0000 - val_loss: 0.0892 - val_accuracy: 0.9850\n",
            "Epoch 90/100\n",
            "270/270 [==============================] - 1s 3ms/step - loss: 1.6638e-05 - accuracy: 1.0000 - val_loss: 0.0897 - val_accuracy: 0.9855\n",
            "Epoch 91/100\n",
            "270/270 [==============================] - 1s 3ms/step - loss: 1.5138e-05 - accuracy: 1.0000 - val_loss: 0.0908 - val_accuracy: 0.9848\n",
            "Epoch 92/100\n",
            "270/270 [==============================] - 1s 3ms/step - loss: 1.3278e-05 - accuracy: 1.0000 - val_loss: 0.0913 - val_accuracy: 0.9853\n",
            "Epoch 93/100\n",
            "270/270 [==============================] - 1s 3ms/step - loss: 1.2517e-05 - accuracy: 1.0000 - val_loss: 0.0903 - val_accuracy: 0.9853\n",
            "Epoch 94/100\n",
            "270/270 [==============================] - 1s 3ms/step - loss: 1.1152e-05 - accuracy: 1.0000 - val_loss: 0.0917 - val_accuracy: 0.9855\n",
            "Epoch 95/100\n",
            "270/270 [==============================] - 1s 3ms/step - loss: 1.0136e-05 - accuracy: 1.0000 - val_loss: 0.0928 - val_accuracy: 0.9850\n",
            "Epoch 96/100\n",
            "270/270 [==============================] - 1s 3ms/step - loss: 8.7034e-06 - accuracy: 1.0000 - val_loss: 0.0922 - val_accuracy: 0.9857\n",
            "Epoch 97/100\n",
            "270/270 [==============================] - 1s 3ms/step - loss: 7.9394e-06 - accuracy: 1.0000 - val_loss: 0.0929 - val_accuracy: 0.9857\n",
            "Epoch 98/100\n",
            "270/270 [==============================] - 1s 3ms/step - loss: 7.0896e-06 - accuracy: 1.0000 - val_loss: 0.0945 - val_accuracy: 0.9848\n",
            "Epoch 99/100\n",
            "270/270 [==============================] - 1s 3ms/step - loss: 6.5843e-06 - accuracy: 1.0000 - val_loss: 0.0955 - val_accuracy: 0.9860\n",
            "Epoch 100/100\n",
            "270/270 [==============================] - 1s 3ms/step - loss: 6.0584e-06 - accuracy: 1.0000 - val_loss: 0.0957 - val_accuracy: 0.9848\n"
          ],
          "name": "stdout"
        }
      ]
    },
    {
      "cell_type": "code",
      "metadata": {
        "colab": {
          "base_uri": "https://localhost:8080/"
        },
        "id": "B12vN44Ln1CF",
        "outputId": "ff5ba2ab-b7b8-4478-e679-307a643345a8"
      },
      "source": [
        "from sklearn.metrics import confusion_matrix\n",
        "loss, accuracy = model.evaluate(test_samples, test_labels,verbose=0)  # Evaluate the model\n",
        "print('Accuracy :%0.3f'%accuracy)\n",
        "\n",
        "pred_labels = model.predict(test_samples)\n",
        "cm = confusion_matrix(test_labels.argmax(axis=1), pred_labels.argmax(axis=1))\n",
        "print(cm )\n",
        "\n"
      ],
      "execution_count": 40,
      "outputs": [
        {
          "output_type": "stream",
          "text": [
            "Accuracy :0.983\n",
            "[[ 972    0    1    1    1    1    2    1    1    0]\n",
            " [   0 1125    3    0    0    1    2    1    3    0]\n",
            " [   3    1 1012    3    1    0    3    5    4    0]\n",
            " [   0    0    2  993    0    5    0    4    4    2]\n",
            " [   2    0    0    1  963    0    5    2    1    8]\n",
            " [   2    0    0    8    0  873    4    0    4    1]\n",
            " [   5    2    2    1    1    5  942    0    0    0]\n",
            " [   1    3    5    3    1    0    0 1010    2    3]\n",
            " [   3    0    1    3    4    4    1    3  951    4]\n",
            " [   1    2    0    5    6    3    0    4    1  987]]\n"
          ],
          "name": "stdout"
        }
      ]
    },
    {
      "cell_type": "code",
      "metadata": {
        "colab": {
          "base_uri": "https://localhost:8080/",
          "height": 265
        },
        "id": "sdXS58IwWOXP",
        "outputId": "da0b6fea-0acb-4f21-cf47-26e93ebdfaaf"
      },
      "source": [
        "history.history.keys()\n",
        "import matplotlib.pyplot as plt\n",
        "plt.plot(range(len(history.history['val_accuracy'])), history.history['val_accuracy'])\n",
        "plt.show()"
      ],
      "execution_count": 44,
      "outputs": [
        {
          "output_type": "display_data",
          "data": {
            "image/png": "[encoded data removed]",
            "text/plain": [
              "<Figure size 432x288 with 1 Axes>"
            ]
          },
          "metadata": {
            "tags": [],
            "needs_background": "light"
          }
        }
      ]
    },
    {
      "cell_type": "code",
      "metadata": {
        "id": "DySmpDX7n1CY"
      },
      "source": [
        ""
      ],
      "execution_count": null,
      "outputs": []
    }
  ]
}